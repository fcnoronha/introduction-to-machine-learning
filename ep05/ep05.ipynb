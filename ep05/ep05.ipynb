{
  "cells": [
    {
      "cell_type": "markdown",
      "metadata": {
        "id": "IUOGybeTsvIk",
        "colab_type": "text"
      },
      "source": [
        "# MAC0460 - Intruduction to machine learning\n",
        "<hr>\n",
        "\n",
        "## EP5: Neural networks and scikit-learn\n",
        "\n",
        "### Topics / concepts explored in this EP:\n",
        "\n"
      ]
    },
    {
      "cell_type": "markdown",
      "metadata": {},
      "source": [
        "### Part 1: Data preparation\n",
        "\n",
        "The next three code cells will deal with the preparation of the dataset used"
      ]
    },
    {
      "cell_type": "markdown",
      "metadata": {
        "id": "uLcu4LKcsvI1",
        "colab_type": "text"
      },
      "source": [
        "#### 1.1 MNIST dataset \n",
        "\n",
        "This is a well known dataset, commonly used as a first example of image classification tasks. We could say it is the \"Hello world!\" of image classification. It consists of handwritten digits, divided into $60000$ training images and $10000$ test images. All images are gray-scale (one channel with pixel intensities varying from 0 to 255) and have size $28 \\times 28$. There are 10 classes, corresponding to digits 0 to 9.\n",
        "\n",
        "The dataset is available in many places. Here we will use the one available with Keras."
      ]
    },
    {
      "cell_type": "code",
      "metadata": {
        "id": "O3pP9JbQsvI2",
        "colab_type": "code",
        "outputId": "f091bc41-fb8f-4d58-b2ac-a59507f23c52",
        "colab": {
          "base_uri": "https://localhost:8080/",
          "height": 83
        }
      },
      "source": [
        "\n",
        "from tensorflow.keras.datasets import mnist\n",
        "\n",
        "# extracting training and test parts of the dataset\n",
        "(x_train_all, y_train_all), (x_test_all, y_test_all) = mnist.load_data()"
      ],
      "execution_count": 8,
      "outputs": []
    },
    {
      "cell_type": "markdown",
      "metadata": {},
      "source": [
        "#### 1.3 Separating reduced training set\n",
        "\n",
        "Here we are going to create a new trianing set, consisting of $n\\_samples = 2000$ examples of each class"
      ]
    },
    {
      "cell_type": "code",
      "execution_count": 9,
      "metadata": {},
      "outputs": [],
      "source": [
        "import numpy as np\n",
        "from sklearn.utils import shuffle\n",
        "\n",
        "np.random.seed(666)\n",
        "\n",
        "# number of samples from each class to be inserted in the reduced set\n",
        "# SHOULD FIND A MORE BEATIFUL WAY TO DO THIS\n",
        "n_sample = 2000\n",
        "x_train_reduced = y_train_reduced = None\n",
        "for c in range(10):\n",
        "    itens = [i for i in range(len(x_train_all)) if y_train_all[i] == c]\n",
        "    x_tmp, y_tmp = shuffle(x_train_all[itens], y_train_all[itens])\n",
        "    if x_train_reduced is None:\n",
        "        x_train_reduced, y_train_reduced = x_tmp[:n_sample], y_tmp[:n_sample]\n",
        "        continue\n",
        "    x_train_reduced = np.concatenate([x_train_reduced, x_tmp[:n_sample]], axis = 0) \n",
        "    y_train_reduced = np.concatenate([y_train_reduced, y_tmp[:n_sample]])\n"
      ]
    },
    {
      "cell_type": "markdown",
      "metadata": {},
      "source": [
        "#### 1.2 Extracting features\n",
        "\n",
        "In our Neural network we are going to use the mean intersity of the pixels of the image. This value is going to be transformed to fit the $[0,1]$ interval. "
      ]
    },
    {
      "cell_type": "code",
      "execution_count": 12,
      "metadata": {},
      "outputs": [
        {
          "output_type": "stream",
          "name": "stdout",
          "text": "x_train --- dtype:float32 | shape:(20000,) | min:0.0 | max:1.0\ny_train --- dtype:float32 | shape:(20000,) | min:0.0 | max:9.0\nx_test --- dtype:float32 | shape:(10000,) | min:0.0 | max:1.0\ny_test --- dtype:float32 | shape:(10000,) | min:0.0 | max:9.0\n"
        },
        {
          "output_type": "display_data",
          "data": {
            "text/plain": "<Figure size 648x432 with 6 Axes>",
            "image/svg+xml": "<?xml version=\"1.0\" encoding=\"utf-8\" standalone=\"no\"?>\n<!DOCTYPE svg PUBLIC \"-//W3C//DTD SVG 1.1//EN\"\n  \"http://www.w3.org/Graphics/SVG/1.1/DTD/svg11.dtd\">\n<!-- Created with matplotlib (https://matplotlib.org/) -->\n<svg height=\"355.129462pt\" version=\"1.1\" viewBox=\"0 0 516.6 355.129462\" width=\"516.6pt\" xmlns=\"http://www.w3.org/2000/svg\" xmlns:xlink=\"http://www.w3.org/1999/xlink\">\n <defs>\n  <style type=\"text/css\">\n*{stroke-linecap:butt;stroke-linejoin:round;}\n  </style>\n </defs>\n <g id=\"figure_1\">\n  <g id=\"patch_1\">\n   <path d=\"M 0 355.129462 \nL 516.6 355.129462 \nL 516.6 0 \nL 0 0 \nz\n\" style=\"fill:none;\"/>\n  </g>\n  <g id=\"axes_1\">\n   <g clip-path=\"url(#p0976390fb5)\">\n    <image height=\"148\" id=\"imageadd5a11ab4\" transform=\"scale(1 -1)translate(0 -148)\" width=\"148\" x=\"7.2\" xlink:href=\"data:image/png;base64,\niVBORw0KGgoAAAANSUhEUgAAAJQAAACUCAYAAAB1PADUAAAABHNCSVQICAgIfAhkiAAABHZJREFUeJzt3U8rdGEYx/F7/F2QJEoUkqKUIjWSBfISSLGysvEavABrGytZYoeNjSwVK3ZSKCWhRP6H5wVc16njmd85Z/D9LK/mzNzp2905Zs5MLoTwFQCRkqwXgN+FoCBFUJAiKEgRFKQIClIEBSmCghRBQYqgIEVQkCIoSBEUpAgKUgQFqbKsF/CX1dfXm9nNzU0GK9Fhh4IUQUGKoCBFUJDipDwlra2tZra1tWVmS0tL7vGLi4vyNSWBHQpSBAUpgoIUQUGKk/KUzMzMmFl3d7eZ5fN593hOyvEnERSkCApSBAUpgoIUV3kpGRkZMbNcLmdmu7u7KawmOexQkCIoSBEUpAgKUrnAl7bKeTcfHB0dmdn19bWZ9fT0JLKmtLBDQYqgIEVQkCIoSPGf8gR4NyR4J+qrq6tpLCdV7FCQIihIERSkCApSBAWporzKq6ioMLOWlhb3sZeXl2b2+PgoX9N3lJXZP2tpaWkGK0kfOxSkCApSBAUpgoJU5ifljY2NZra2tmZmQ0ND7vHr6+tmNjk5WfjCCnB1dWVmd3d3GawkfexQkCIoSBEUpAgKUpmflA8PD5uZdwK+sbHhHj83N6deUsG6urrMrLy83My8O4d/OnYoSBEUpAgKUgQFqczvHPZ+zuv29tbMOjs75a9dVVXlzg8ODmK9ftRJ9dfX//9Jd3Z23Ln3MR2Pd5ETgv81Qd5rLS8vx3qdKOxQkCIoSBEUpAgKUgQFqdTeehkbG3PntbW1Zhb1m3FqLy8v7nxhYcHMZmdnzSzqKq+urs7Mmpubzcy7maG6utp9zunpaTM7Pz83M+8KOer4/v5+M+MqD0WFoCBFUJAiKEildlLufR4ohBBKSmzTb29vSS8nhBDCx8eHO/dOTL9zslpTU2Nm3s0UfX19ZjYwMOA+Z0dHh5l5b1s9PT25x3t3Xsd9O+c72KEgRVCQIihIERSkMr9J4Te6v783s+PjYzPzfvIs6qR8b2+voDWdnJwUdHxc7FCQIihIERSkCApSBAWporzK+423aHufU/r8/DSz5+fnNJaTGHYoSBEUpAgKUgQFqdROypuammI/dn5+PtYshBBOT0/NzPslBu9W7Cjb29uxZt6PUEeZmpqK9bioz439FOxQkCIoSBEUpAgKUql9P9TKyoo79753aXNz08xeX1/d48fHx83M+097b2+vmXl37kZ5eHgws/f3d/ex+/v7ZpbP583Mu0mioaEh9pqKETsUpAgKUgQFKYKCVOZf2pqW9vZ2M/PuWg4hhMrKSjObmJgws8HBQff4trY2M/O+4ufw8NDMRkdH3ef8KdihIEVQkCIoSBEUpAgKUn/mKi9r3m8AXlxcmNnZ2VkKq0kOOxSkCApSBAUpgoIUJ+WQYoeCFEFBiqAgRVCQIihIERSkCApSBAUpgoIUQUGKoCBFUJAiKEgRFKQIClIEBSmCghRBQYqgIEVQkCIoSBEUpAgKUgQFKYKCFEFBiqAgRVCQIihIERSkCApSBAUpgoIUQUGKoCBFUJD6B1uAvxQ8GwyAAAAAAElFTkSuQmCC\" y=\"-22.024007\"/>\n   </g>\n   <g id=\"text_1\">\n    <!-- Class: 7 -->\n    <defs>\n     <path d=\"M 64.40625 67.28125 \nL 64.40625 56.890625 \nQ 59.421875 61.53125 53.78125 63.8125 \nQ 48.140625 66.109375 41.796875 66.109375 \nQ 29.296875 66.109375 22.65625 58.46875 \nQ 16.015625 50.828125 16.015625 36.375 \nQ 16.015625 21.96875 22.65625 14.328125 \nQ 29.296875 6.6875 41.796875 6.6875 \nQ 48.140625 6.6875 53.78125 8.984375 \nQ 59.421875 11.28125 64.40625 15.921875 \nL 64.40625 5.609375 \nQ 59.234375 2.09375 53.4375 0.328125 \nQ 47.65625 -1.421875 41.21875 -1.421875 \nQ 24.65625 -1.421875 15.125 8.703125 \nQ 5.609375 18.84375 5.609375 36.375 \nQ 5.609375 53.953125 15.125 64.078125 \nQ 24.65625 74.21875 41.21875 74.21875 \nQ 47.75 74.21875 53.53125 72.484375 \nQ 59.328125 70.75 64.40625 67.28125 \nz\n\" id=\"DejaVuSans-67\"/>\n     <path d=\"M 9.421875 75.984375 \nL 18.40625 75.984375 \nL 18.40625 0 \nL 9.421875 0 \nz\n\" id=\"DejaVuSans-108\"/>\n     <path d=\"M 34.28125 27.484375 \nQ 23.390625 27.484375 19.1875 25 \nQ 14.984375 22.515625 14.984375 16.5 \nQ 14.984375 11.71875 18.140625 8.90625 \nQ 21.296875 6.109375 26.703125 6.109375 \nQ 34.1875 6.109375 38.703125 11.40625 \nQ 43.21875 16.703125 43.21875 25.484375 \nL 43.21875 27.484375 \nz\nM 52.203125 31.203125 \nL 52.203125 0 \nL 43.21875 0 \nL 43.21875 8.296875 \nQ 40.140625 3.328125 35.546875 0.953125 \nQ 30.953125 -1.421875 24.3125 -1.421875 \nQ 15.921875 -1.421875 10.953125 3.296875 \nQ 6 8.015625 6 15.921875 \nQ 6 25.140625 12.171875 29.828125 \nQ 18.359375 34.515625 30.609375 34.515625 \nL 43.21875 34.515625 \nL 43.21875 35.40625 \nQ 43.21875 41.609375 39.140625 45 \nQ 35.0625 48.390625 27.6875 48.390625 \nQ 23 48.390625 18.546875 47.265625 \nQ 14.109375 46.140625 10.015625 43.890625 \nL 10.015625 52.203125 \nQ 14.9375 54.109375 19.578125 55.046875 \nQ 24.21875 56 28.609375 56 \nQ 40.484375 56 46.34375 49.84375 \nQ 52.203125 43.703125 52.203125 31.203125 \nz\n\" id=\"DejaVuSans-97\"/>\n     <path d=\"M 44.28125 53.078125 \nL 44.28125 44.578125 \nQ 40.484375 46.53125 36.375 47.5 \nQ 32.28125 48.484375 27.875 48.484375 \nQ 21.1875 48.484375 17.84375 46.4375 \nQ 14.5 44.390625 14.5 40.28125 \nQ 14.5 37.15625 16.890625 35.375 \nQ 19.28125 33.59375 26.515625 31.984375 \nL 29.59375 31.296875 \nQ 39.15625 29.25 43.1875 25.515625 \nQ 47.21875 21.78125 47.21875 15.09375 \nQ 47.21875 7.46875 41.1875 3.015625 \nQ 35.15625 -1.421875 24.609375 -1.421875 \nQ 20.21875 -1.421875 15.453125 -0.5625 \nQ 10.6875 0.296875 5.421875 2 \nL 5.421875 11.28125 \nQ 10.40625 8.6875 15.234375 7.390625 \nQ 20.0625 6.109375 24.8125 6.109375 \nQ 31.15625 6.109375 34.5625 8.28125 \nQ 37.984375 10.453125 37.984375 14.40625 \nQ 37.984375 18.0625 35.515625 20.015625 \nQ 33.0625 21.96875 24.703125 23.78125 \nL 21.578125 24.515625 \nQ 13.234375 26.265625 9.515625 29.90625 \nQ 5.8125 33.546875 5.8125 39.890625 \nQ 5.8125 47.609375 11.28125 51.796875 \nQ 16.75 56 26.8125 56 \nQ 31.78125 56 36.171875 55.265625 \nQ 40.578125 54.546875 44.28125 53.078125 \nz\n\" id=\"DejaVuSans-115\"/>\n     <path d=\"M 11.71875 12.40625 \nL 22.015625 12.40625 \nL 22.015625 0 \nL 11.71875 0 \nz\nM 11.71875 51.703125 \nL 22.015625 51.703125 \nL 22.015625 39.3125 \nL 11.71875 39.3125 \nz\n\" id=\"DejaVuSans-58\"/>\n     <path id=\"DejaVuSans-32\"/>\n     <path d=\"M 8.203125 72.90625 \nL 55.078125 72.90625 \nL 55.078125 68.703125 \nL 28.609375 0 \nL 18.3125 0 \nL 43.21875 64.59375 \nL 8.203125 64.59375 \nz\n\" id=\"DejaVuSans-55\"/>\n    </defs>\n    <g transform=\"translate(57.522629 16.318125)scale(0.12 -0.12)\">\n     <use xlink:href=\"#DejaVuSans-67\"/>\n     <use x=\"69.824219\" xlink:href=\"#DejaVuSans-108\"/>\n     <use x=\"97.607422\" xlink:href=\"#DejaVuSans-97\"/>\n     <use x=\"158.886719\" xlink:href=\"#DejaVuSans-115\"/>\n     <use x=\"210.986328\" xlink:href=\"#DejaVuSans-115\"/>\n     <use x=\"263.085938\" xlink:href=\"#DejaVuSans-58\"/>\n     <use x=\"296.777344\" xlink:href=\"#DejaVuSans-32\"/>\n     <use x=\"328.564453\" xlink:href=\"#DejaVuSans-55\"/>\n    </g>\n   </g>\n  </g>\n  <g id=\"axes_2\">\n   <g clip-path=\"url(#p2272acff6c)\">\n    <image height=\"148\" id=\"imaged2fa6ddf39\" transform=\"scale(1 -1)translate(0 -148)\" width=\"148\" x=\"184.447059\" xlink:href=\"data:image/png;base64,\niVBORw0KGgoAAAANSUhEUgAAAJQAAACUCAYAAAB1PADUAAAABHNCSVQICAgIfAhkiAAABN5JREFUeJzt3csrfXscxvHl5C7ym4hMMDCQgVySTIkkKSWFpJSpUsb+ACakGDEREWOTbUi5DUQihsitJLkUOeNzPh+d/TvrYe/9834Nn9ba+0tP375rr1tSEAQfASDyV6wHgD8LhYIUhYIUhYIUhYIUhYIUhYIUhYIUhYIUhYIUhYIUhYIUhYIUhYIUhYIUhYIUhYIUhYIUhYIUhYJUcqwHEEudnZ1uvri4aLK1tTWTtbS0yMeU6JihIEWhIEWhIEWhIPWjF+XHx8dufnt7a7Li4mKTFRYWuvufn5+HG1gCY4aCFIWCFIWCFIWCFIWCVFLA86GM/f19k5WXl5vMOx0TBD/7lAwzFKQoFKQoFKQoFKR+9KmXsEpKStzcOyXzU07HMENBikJBikJBikJBikW5Y29vz2TeL+WlpaXu/l1dXSYbHx8PP7AEwAwFKQoFKQoFKQoFKQoFKa6HcmRlZZlsc3PTZN6RXxAEwevrq8lGRkZMNjk5+T9GF9+YoSBFoSBFoSBFoSD1R556aW1tNVlGRkaoz8zMzIx627S0NJP19vaajEU58B8oFKQoFKQoFKTi8pfynZ0dkyUnR3/8UFZWFmr/aCUlJbn5x4f9lz4/P5tseHjYZNPT0+EHFkPMUJCiUJCiUJCiUJCK+aJ8YGDAZDMzMyb7bAGcyLyFeltbm7ttJBL56uFIMENBikJBikJBikJBikJBKubXQxUUFJjsK47orq6uTHZ0dORuOzU1ZbL29naTffZqjoqKCpPl5uaazLtGa3R01P3Mg4MDk3l/U6wxQ0GKQkGKQkGKQkEq5ovysLwF9Orqqsmur69Ndnh4GPX3rKysRL1tZWWlyWpra03mjb2+vt79zPn5eZM1NDREPabvwgwFKQoFKQoFKQoFqZgvyi8vL03mXeT/2a/n3i/Ld3d3occVhvfQ17Ozs6j29RbqQRAEdXV1Juvv7zfZ7OxsVN/zVZihIEWhIEWhIEWhIEWhIBXzu1483kNPU1JS3G2HhoZMNjExIR/TV/Be7bG1teVum5OTY7KbmxuTebfhB8H3HfkyQ0GKQkGKQkGKQkEq5qdePN4CMj8/393Wu87IexbU29tb+IGJnZycmGxhYcHddnBw0GTp6ekmKyoqcvdnUY6ERKEgRaEgRaEgFZeL8sbGRpN5D3INgiDIy8szWWpqqsnicVHuGRsbc/Oenh6TZWdnm6ympsbdf3d3N9zAosQMBSkKBSkKBSkKBam4XJR7d/QuLy+721ZXV5vMW5Q/PT2FH9g3+OxmBu+GhKWlpa8ezm9jhoIUhYIUhYIUhYIUhYJUXB7leTY2Nty8u7vbZN7DUO/v7+Vj+k7b29sm827m+OzVHnNzcyZ7eXkJPa5/Y4aCFIWCFIWCFIWCVFzeOfw7Li4uTFZVVWUy7zlUia6jo8Nkn93ksL6+brLm5mb5mJihIEWhIEWhIEWhIJXwi3LvVWKnp6cme3x8/I7hxNzk5KSb9/X1mezXr18me39/D/X9zFCQolCQolCQolCQolCQSvijPPxTZmamm0ciEZM9PDyYrKmpKdT3M0NBikJBikJBikJBikU5pJihIEWhIEWhIEWhIEWhIEWhIEWhIEWhIEWhIEWhIEWhIEWhIEWhIEWhIEWhIEWhIEWhIEWhIEWhIEWhIPU3je3pbzLEHtEAAAAASUVORK5CYII=\" y=\"-22.024007\"/>\n   </g>\n   <g id=\"text_2\">\n    <!-- Class: 4 -->\n    <defs>\n     <path d=\"M 37.796875 64.3125 \nL 12.890625 25.390625 \nL 37.796875 25.390625 \nz\nM 35.203125 72.90625 \nL 47.609375 72.90625 \nL 47.609375 25.390625 \nL 58.015625 25.390625 \nL 58.015625 17.1875 \nL 47.609375 17.1875 \nL 47.609375 0 \nL 37.796875 0 \nL 37.796875 17.1875 \nL 4.890625 17.1875 \nL 4.890625 26.703125 \nz\n\" id=\"DejaVuSans-52\"/>\n    </defs>\n    <g transform=\"translate(234.769687 16.318125)scale(0.12 -0.12)\">\n     <use xlink:href=\"#DejaVuSans-67\"/>\n     <use x=\"69.824219\" xlink:href=\"#DejaVuSans-108\"/>\n     <use x=\"97.607422\" xlink:href=\"#DejaVuSans-97\"/>\n     <use x=\"158.886719\" xlink:href=\"#DejaVuSans-115\"/>\n     <use x=\"210.986328\" xlink:href=\"#DejaVuSans-115\"/>\n     <use x=\"263.085938\" xlink:href=\"#DejaVuSans-58\"/>\n     <use x=\"296.777344\" xlink:href=\"#DejaVuSans-32\"/>\n     <use x=\"328.564453\" xlink:href=\"#DejaVuSans-52\"/>\n    </g>\n   </g>\n  </g>\n  <g id=\"axes_3\">\n   <g clip-path=\"url(#pd79a4e6eaa)\">\n    <image height=\"148\" id=\"image8114d1ae81\" transform=\"scale(1 -1)translate(0 -148)\" width=\"148\" x=\"361.694118\" xlink:href=\"data:image/png;base64,\niVBORw0KGgoAAAANSUhEUgAAAJQAAACUCAYAAAB1PADUAAAABHNCSVQICAgIfAhkiAAABEJJREFUeJzt3b8rtWEcx/Hr8Ax+DCZZKEURg2I1IJMoSZLJQBiEUhhIMZpsDAYDq5LJX6HECaNksAiTX88f8P2q+zz355zLec77NX47932u4e3qPs65z8mEEL4DIFIWewH4vxAUpAgKUgQFKYKCFEFBiqAgRVCQIihIERSkCApSBAUpgoIUQUGKoCD1J/YCitnU1JQ739vbS3R8Q0ODmT08PKRaU2zsUJAiKEgRFKQIClKZwE0KidTX15vZ9fW1+9iqqqpE52xvbzezbDab28J+GXYoSBEUpAgKUgQFKf5TnlBvb6+ZJb34DiGEjY0NM7u5uUm1pt+IHQpSBAUpgoIUQUGKoCDFq7wCqampMbOvr68IK8kvdihIERSkCApSBAUpLsoL5OjoKPYSCoIdClIEBSmCghRBQYqL8oQmJydjL6EosENBiqAgRVCQIihIERSkeJXnqK6uNrPa2tpU52xpaUn0uNfXV3d+d3eX6vkLhR0KUgQFKYKCFEFBqqS/H2psbMydr66umllHR0e+lxNCCOH5+dmdX15emllfX5+ZfXx8yNeUC3YoSBEUpAgKUgQFqZK5KN/a2jKztbU197GZTCbfy/nR5+enO/f+g15XV2dm7+/v8jXlgh0KUgQFKYKCFEFBqmQ+vtLT02Nm+br49i6gNzc3zezp6cnMHh8f3XOen5+nXlchsENBiqAgRVCQIihIERSkSuatl7a2NjNbWFhwH9vf329mjY2NiZ/r4ODAzKanpxMfX8zYoSBFUJAiKEgRFKSiv/Xivf3h3WVbUVHhHn97e2tmb29vZnZ1dWVmMzMz7jkPDw/NLJeL8mJ5myQf2KEgRVCQIihIERSkol+UDw4OmtnJyUni47PZrJltb2+b2fHxcW4Lwz9hh4IUQUGKoCBFUJAiKEhFf5XX3Nyc6vjW1lYz29/fN7Pl5WUzm5+fT/XcsNihIEVQkCIoSBEUpKLfpOB9zmlxcdHMhoeH3eO7urrMrKws2d/JT9+l5B1fXl6e6JwhhLC7u2tmS0tLiY8vZuxQkCIoSBEUpAgKUtEvytNaX183s6GhITPzLt7zxfvVg+7ubjN7eXkpxHIKih0KUgQFKYKCFEFBqugvyj2VlZVm1tTUZGZzc3Pu8bOzs/I1nZ6emtno6KiZxf55srTYoSBFUJAiKEgRFKQIClL/5au8pH76aY6BgQEzGx8fN7OJiYlUz7+ysmJmOzs7qc4ZGzsUpAgKUgQFKYKCVPQ7h2P6/vZfj5ydnZnZxcWFmXV2drrHe3cze3K58aFYsENBiqAgRVCQIihIlfRFeS7u7+/NbGRkxH2s90WypYIdClIEBSmCghRBQYqgIFXSn4eCHjsUpAgKUgQFKYKCFEFBiqAgRVCQIihIERSkCApSBAUpgoIUQUGKoCBFUJAiKEgRFKQIClIEBSmCghRBQYqgIEVQkCIoSBEUpP4Cia6fsOXyu0gAAAAASUVORK5CYII=\" y=\"-22.024007\"/>\n   </g>\n   <g id=\"text_3\">\n    <!-- Class: 7 -->\n    <g transform=\"translate(412.016746 16.318125)scale(0.12 -0.12)\">\n     <use xlink:href=\"#DejaVuSans-67\"/>\n     <use x=\"69.824219\" xlink:href=\"#DejaVuSans-108\"/>\n     <use x=\"97.607422\" xlink:href=\"#DejaVuSans-97\"/>\n     <use x=\"158.886719\" xlink:href=\"#DejaVuSans-115\"/>\n     <use x=\"210.986328\" xlink:href=\"#DejaVuSans-115\"/>\n     <use x=\"263.085938\" xlink:href=\"#DejaVuSans-58\"/>\n     <use x=\"296.777344\" xlink:href=\"#DejaVuSans-32\"/>\n     <use x=\"328.564453\" xlink:href=\"#DejaVuSans-55\"/>\n    </g>\n   </g>\n  </g>\n  <g id=\"axes_4\">\n   <g clip-path=\"url(#pe5f379f398)\">\n    <image height=\"148\" id=\"image81c7626da4\" transform=\"scale(1 -1)translate(0 -148)\" width=\"148\" x=\"7.2\" xlink:href=\"data:image/png;base64,\niVBORw0KGgoAAAANSUhEUgAAAJQAAACUCAYAAAB1PADUAAAABHNCSVQICAgIfAhkiAAAA5RJREFUeJzt3K9KLGEYgPHZwwmCIhbDBsE7EA0rmLQZNBoFr8BqEGGjF2AWtAtazBpELIpFDFr9AxZl0UXDORfwfgdmzzy6szPPL77MyhceXj5Zx0aWZX8yCfKr3wdQtRiUUAYllEEJZVBCGZRQBiWUQQllUEIZlFAGJZRBCWVQQhmUUAYllEEJZVBCGZRQBiWUQQn1u98H+CmTk5Nhdn9/n3z25eUlzHZ2dsJse3s7+fmvr6/eDlchbiihDEoogxLKoIRqZDV5c7iXS3nK+/t7mK2uriafPTw8zP1zq8YNJZRBCWVQQhmUUAYlVG2+eilqc3MzzG5vb/twknJzQwllUEIZlFAGJVRtLuXdbjfMOp1O8tmRkZEwe319DTMv5ZEbSiiDEsqghDIooWpzKX96egqzs7Oz5LOLi4thNj09HWZ7e3vFD1YxbiihDEoogxLKoIQyKKFq89ZLSrvdTs63trZyfX5ubi45v7i4+N8jDTw3lFAGJZRBCWVQQtXmq5eU1OvlvWg2m9BJqsMNJZRBCWVQQhmUULW+lO/v7yfnGxsbYTY2Nvbdx6kEN5RQBiWUQQllUELV+s9X/uXo6CjMlpaWwuzh4SH5+YWFhTC7u7srfrAB4IYSyqCEMiihDEoogxLK3/ISJiYmwuzm5ibMUv9HKsuybH5+PsxOT08Ln2sQuKGEMiihDEoogxLKS3lOz8/PYTY+Pp589uDgIMxWVlbwM5WRG0oogxLKoIQyKKG8lOe0u7sbZmtra8lnPz4+wmxqairMqvg3Um4ooQxKKIMSyqCEMiihav0qei/e3t5yPzs0NBRmw8PD5HFKyw0llEEJZVBCGZRQXspzOjk5CbP19fWfP0jJuaGEMiihDEoogxLKS3lOl5eXYdZoNHJ/fmZmJsyur68LnamM3FBCGZRQBiWUQQnlSwoFnJ+fJ+etVivMjo+Pw2x5eRk/U7+5oYQyKKEMSiiDEsqghPKrlwIeHx9zP5t6FX10dDTMenkZoozcUEIZlFAGJZRBCeWl/Id0Op0w63a7fTjJ93JDCWVQQhmUUAYllJfyAprNZu5nU//I9fPzkzxOKbihhDIooQxKKIMSyqCE8re8Aq6urpLz2dnZMEu99VJFbiihDEoogxLKoITyVXSh3FBCGZRQBiWUQQllUEIZlFAGJZRBCWVQQhmUUAYllEEJZVBCGZRQBiWUQQllUEIZlFAGJZRBCfUXCxCK0RKOyWEAAAAASUVORK5CYII=\" y=\"-199.929462\"/>\n   </g>\n   <g id=\"text_4\">\n    <!-- Class: 1 -->\n    <defs>\n     <path d=\"M 12.40625 8.296875 \nL 28.515625 8.296875 \nL 28.515625 63.921875 \nL 10.984375 60.40625 \nL 10.984375 69.390625 \nL 28.421875 72.90625 \nL 38.28125 72.90625 \nL 38.28125 8.296875 \nL 54.390625 8.296875 \nL 54.390625 0 \nL 12.40625 0 \nz\n\" id=\"DejaVuSans-49\"/>\n    </defs>\n    <g transform=\"translate(57.522629 194.22358)scale(0.12 -0.12)\">\n     <use xlink:href=\"#DejaVuSans-67\"/>\n     <use x=\"69.824219\" xlink:href=\"#DejaVuSans-108\"/>\n     <use x=\"97.607422\" xlink:href=\"#DejaVuSans-97\"/>\n     <use x=\"158.886719\" xlink:href=\"#DejaVuSans-115\"/>\n     <use x=\"210.986328\" xlink:href=\"#DejaVuSans-115\"/>\n     <use x=\"263.085938\" xlink:href=\"#DejaVuSans-58\"/>\n     <use x=\"296.777344\" xlink:href=\"#DejaVuSans-32\"/>\n     <use x=\"328.564453\" xlink:href=\"#DejaVuSans-49\"/>\n    </g>\n   </g>\n  </g>\n  <g id=\"axes_5\">\n   <g clip-path=\"url(#p83379304b5)\">\n    <image height=\"148\" id=\"image5cf7cdf2f0\" transform=\"scale(1 -1)translate(0 -148)\" width=\"148\" x=\"184.447059\" xlink:href=\"data:image/png;base64,\niVBORw0KGgoAAAANSUhEUgAAAJQAAACUCAYAAAB1PADUAAAABHNCSVQICAgIfAhkiAAABQ1JREFUeJzt3c8rfF8cx/EzXySK/EpiQ9LYESlJsrKRBQslydJC2VrY20iRnVCSZCU/smAhCxQpK5KdpPxqEkl+fv+A8566PvOaGaPnY/nq3jNHvTrdue65E3LOfTtA5L9kTwB/C4WCFIWCFIWCFIWCFIWCFIWCFIWCFIWCFIWCFIWCFIWCFIWCFIWCFIWCFIWCFIWCFIWCFIWCFIWCVHqyJ2ApLS31snA4bB5bUlLiZd3d3fI5zc/Pe9nj46N5bCQS8bKTkxP5nH4jVihIUShIUShIUShIhVyCdg5bF7XOOVdTU+Nl+fn5XlZWViafU6xCoZCZPz8/e9nGxoaX9ff3e9nHx0fsE0siVihIUShIUShIUShIUShIJexb3ufnp5l/fyfv9VRPT09mbs0pNzfXy6J9ywv6N728vHjZ4OCgeezCwkKgMZONFQpSFApSFApSFApSv/Ki/O7uzssWFxfN84+Pj/95ToeHh2b++vrqZS0tLV42NDRknl9VVeVleXl5geb08PBg5l1dXV62t7cXaMxEYoWCFIWCFIWCFIWC1K+8KJ+dnfWygYEB+Zzipbe318uiPQ8W1NLSkpf19fXFNGY8sEJBikJBikJBikJBikJBKmFb0a3t5c4519HR4WXW9vKMjAzz/Pf399gmFgdHR0deZv1LpbCwMPCY1dXVXpadne1l1jNWicQKBSkKBSkKBSkKBamEXZTf3NyY+czMTKKmkDAFBQXyMff3970s2RfgFlYoSFEoSFEoSFEoSCXseahYWe+Mcs655eXlQOdbd6+3trbMY3d3dwONOTY2ZubWc0pFRUWBxjw7OzPz5uZmL4v20thkYoWCFIWCFIWCFIWCVMpclA8PD5v56OjoP48Z7dGXq6urQOdXVlaa+dfXV6Dzx8fHvWxiYsI89vr6OtCYycYKBSkKBSkKBSkKBSkKBalf+Xt5lmi/NxfLS1/T0+0/v7y8PND50b7NWXM6ODjwspGRES/7jZsufoIVClIUClIUClIUClIpc1Ee7QWrt7e3XlZcXBzv6TjnnLu4uDBza0PB5OSkl6X6BbiFFQpSFApSFApSFApSKfM8VDTt7e1etrq6GtOYl5eXXmY9uxRtg8T9/X1Mn5/KWKEgRaEgRaEgRaEgRaEglfLf8tLS0rzM+tdHfX194DGtf6k0NTV5WSQSCTxmPPDSVvx5FApSFApSFApSKfM8VDTW7/Btbm562U8uyq0foW5tbfWylZWVwGNaz2hZv66QlZUVeMzOzk4va2trM4+dm5vzsp2dncCfFRQrFKQoFKQoFKQoFKRS/k65xbqrvb297WWZmZmBx7R2Lr+9vZnHWjuHrYty67kp6+53NOFw2Mui7Ya27upbO5enp6cDf76FFQpSFApSFApSFApSKX+n3GLdgbZ26f7kory2ttbLQqGQeWzQVwxVVFQE/vxYWb9EUVdXJ/8cVihIUShIUShIUShIUShI/clveefn5162vr7uZT09PYmYzq8Vjw0NrFCQolCQolCQolCQ+pMX5Za1tTUvy8nJiWnMqampmM6PVUNDg5c1NjYGPv/09FQ5HeccKxTEKBSkKBSkKBSk/uQmBSQPKxSkKBSkKBSkKBSkKBSkKBSkKBSkKBSkKBSkKBSkKBSkKBSkKBSkKBSkKBSkKBSkKBSkKBSkKBSkKBSkKBSkKBSkKBSkKBSkKBSkKBSkKBSkKBSkKBSkKBSkKBSk/gdGExm2bSbJzQAAAABJRU5ErkJggg==\" y=\"-199.929462\"/>\n   </g>\n   <g id=\"text_5\">\n    <!-- Class: 5 -->\n    <defs>\n     <path d=\"M 10.796875 72.90625 \nL 49.515625 72.90625 \nL 49.515625 64.59375 \nL 19.828125 64.59375 \nL 19.828125 46.734375 \nQ 21.96875 47.46875 24.109375 47.828125 \nQ 26.265625 48.1875 28.421875 48.1875 \nQ 40.625 48.1875 47.75 41.5 \nQ 54.890625 34.8125 54.890625 23.390625 \nQ 54.890625 11.625 47.5625 5.09375 \nQ 40.234375 -1.421875 26.90625 -1.421875 \nQ 22.3125 -1.421875 17.546875 -0.640625 \nQ 12.796875 0.140625 7.71875 1.703125 \nL 7.71875 11.625 \nQ 12.109375 9.234375 16.796875 8.0625 \nQ 21.484375 6.890625 26.703125 6.890625 \nQ 35.15625 6.890625 40.078125 11.328125 \nQ 45.015625 15.765625 45.015625 23.390625 \nQ 45.015625 31 40.078125 35.4375 \nQ 35.15625 39.890625 26.703125 39.890625 \nQ 22.75 39.890625 18.8125 39.015625 \nQ 14.890625 38.140625 10.796875 36.28125 \nz\n\" id=\"DejaVuSans-53\"/>\n    </defs>\n    <g transform=\"translate(234.769687 194.22358)scale(0.12 -0.12)\">\n     <use xlink:href=\"#DejaVuSans-67\"/>\n     <use x=\"69.824219\" xlink:href=\"#DejaVuSans-108\"/>\n     <use x=\"97.607422\" xlink:href=\"#DejaVuSans-97\"/>\n     <use x=\"158.886719\" xlink:href=\"#DejaVuSans-115\"/>\n     <use x=\"210.986328\" xlink:href=\"#DejaVuSans-115\"/>\n     <use x=\"263.085938\" xlink:href=\"#DejaVuSans-58\"/>\n     <use x=\"296.777344\" xlink:href=\"#DejaVuSans-32\"/>\n     <use x=\"328.564453\" xlink:href=\"#DejaVuSans-53\"/>\n    </g>\n   </g>\n  </g>\n  <g id=\"axes_6\">\n   <g clip-path=\"url(#pd56a95610d)\">\n    <image height=\"148\" id=\"image1f04bfe9e2\" transform=\"scale(1 -1)translate(0 -148)\" width=\"148\" x=\"361.694118\" xlink:href=\"data:image/png;base64,\niVBORw0KGgoAAAANSUhEUgAAAJQAAACUCAYAAAB1PADUAAAABHNCSVQICAgIfAhkiAAAA89JREFUeJzt3U8rdGEYgPEzby8LKVJsbIlSInb+ZKFkI0rZ2ljgC8iaT2BhZWvHhq1SSlhNNrbITsjWn7wf4H7UmfdcGjNz/ZZ3zvSkq6fnNGdmSlmWfWUS5E+1F6D6YlBCGZRQBiWUQQllUEIZlFAGJZRBCWVQQhmUUAYllEEJZVBCGZRQBiWUQQllUEIZlFAGJdTfai+gqJ6enjC7uroKs7a2tjA7OjpKvub8/HzxhTUodyihDEoogxLKoISq+UP5x8dHmH1+fua6dmZmJjkfGhoKs3K5XNnCGpQ7lFAGJZRBCWVQQhmUUDV/l3d7extmj4+PYdbR0RFmzc3Nydecm5sLM+/y8nGHEsqghDIooQxKqFJWh1/aOjs7G2bHx8e5r7++vg6zqampMHt9fa1oXY3AHUoogxLKoIQyKKHq8lDe1NQUZicnJ2E2Pj6e+zVXVlbCbG9vr7KFNQB3KKEMSiiDEsqghDIooWr+eaiU9/f3MLu5uQmzsbGx3K+5vLwcZt7lRe5QQhmUUAYllEEJVZdvvaQMDAyE2cXFRfJvW1pawuzu7i7MRkdHk9c/Pz9XuLr64Q4llEEJZVBCGZRQDXMoT9nf30/Ol5aWwqxUKoXZ+vp68vrd3d1iC6th7lBCGZRQBiWUQQlVl4+v5HV/f1/o+o2NjeTcQ7kEMSihDEoogxLKoIRq6LdeJicnk/PT09MwS731kvpy2CzLsq6urkLrqmXuUEIZlFAGJZRBCdXQh/LvHBwchNnCwkKYvby8JK/v7e0Ns0b54II7lFAGJZRBCWVQQjX081DfSf3qQupQ3t7enrx+dXU1zLa3t4svrAa4QwllUEIZlFAGJZRBCeVd3g8YGRmp9hKqxh1KKIMSyqCEMiihfB4qYXBwMMzK5XKYfX2l/3Vvb29h1t3dHWb1+IyUO5RQBiWUQQllUEJ5KM8pdQD/7lCe0tnZGWZPT0+F1vQbuUMJZVBCGZRQBiWUj6/kdHZ2FmaV/Gaxh3LpPxiUUAYllEEJZVBCeZeX0+HhYZhVcpe3uLgYZltbW4XW9Bu5QwllUEIZlFAGJZTPQ+XU398fZpeXl8m/bW1tDbOHh4cwGx4eDrNa/+CCO5RQBiWUQQllUEJ5KC9gZ2cnOV9bW8t1/cTERJidn58XWlO1uUMJZVBCGZRQBiWUQQnl81AFbG5uJud9fX1hNj09/dPL+RXcoYQyKKEMSiiDEsq3XoRyhxLKoIQyKKEMSiiDEsqghDIooQxKKIMSyqCEMiihDEoogxLKoIQyKKEMSiiDEsqghDIooQxKqH9C4Jptvug5dgAAAABJRU5ErkJggg==\" y=\"-199.929462\"/>\n   </g>\n   <g id=\"text_6\">\n    <!-- Class: 1 -->\n    <g transform=\"translate(412.016746 194.22358)scale(0.12 -0.12)\">\n     <use xlink:href=\"#DejaVuSans-67\"/>\n     <use x=\"69.824219\" xlink:href=\"#DejaVuSans-108\"/>\n     <use x=\"97.607422\" xlink:href=\"#DejaVuSans-97\"/>\n     <use x=\"158.886719\" xlink:href=\"#DejaVuSans-115\"/>\n     <use x=\"210.986328\" xlink:href=\"#DejaVuSans-115\"/>\n     <use x=\"263.085938\" xlink:href=\"#DejaVuSans-58\"/>\n     <use x=\"296.777344\" xlink:href=\"#DejaVuSans-32\"/>\n     <use x=\"328.564453\" xlink:href=\"#DejaVuSans-49\"/>\n    </g>\n   </g>\n  </g>\n </g>\n <defs>\n  <clipPath id=\"p0976390fb5\">\n   <rect height=\"147.705882\" width=\"147.705882\" x=\"7.2\" y=\"22.318125\"/>\n  </clipPath>\n  <clipPath id=\"p2272acff6c\">\n   <rect height=\"147.705882\" width=\"147.705882\" x=\"184.447059\" y=\"22.318125\"/>\n  </clipPath>\n  <clipPath id=\"pd79a4e6eaa\">\n   <rect height=\"147.705882\" width=\"147.705882\" x=\"361.694118\" y=\"22.318125\"/>\n  </clipPath>\n  <clipPath id=\"pe5f379f398\">\n   <rect height=\"147.705882\" width=\"147.705882\" x=\"7.2\" y=\"200.22358\"/>\n  </clipPath>\n  <clipPath id=\"p83379304b5\">\n   <rect height=\"147.705882\" width=\"147.705882\" x=\"184.447059\" y=\"200.22358\"/>\n  </clipPath>\n  <clipPath id=\"pd56a95610d\">\n   <rect height=\"147.705882\" width=\"147.705882\" x=\"361.694118\" y=\"200.22358\"/>\n  </clipPath>\n </defs>\n</svg>\n",
            "image/png": "[encoded data removed]"
          },
          "metadata": {
            "needs_background": "light"
          }
        }
      ],
      "source": [
        "from sklearn.preprocessing import minmax_scale\n",
        "import matplotlib.pyplot as plt\n",
        "\n",
        "# image features of mean intensity without normalization\n",
        "x_train_features = np.array([np.mean(image) for image in x_train_reduced])\n",
        "x_test_features = np.array([np.mean(image) for image in x_test_all])\n",
        "\n",
        "# image features with normalization in [0,1]\n",
        "x_train_features = minmax_scale(x_train_features)\n",
        "x_test_features = minmax_scale(x_test_features)\n",
        "\n",
        "# shuflling training set and setting corrects data types\n",
        "x_train, y_train, x_image = shuffle(x_train_features.astype('float32'), y_train_reduced.astype('float32'), x_train_reduced)\n",
        "x_test, y_test = x_test_features.astype('float32'), y_test_all.astype('float32')\n",
        "\n",
        "def print_info(label, x):\n",
        "    print(label + \" --- dtype:\" + str(x.dtype) + \" | shape:\" + str(x.shape) + \" | min:\" + str(min(x)) + \" | max:\" + str(max(x)))\n",
        "\n",
        "print_info(\"x_train\", x_train)\n",
        "print_info(\"y_train\", y_train)\n",
        "print_info(\"x_test\", x_test)\n",
        "print_info(\"y_test\", y_test)\n",
        "\n",
        "# printing 6 images of the training set\n",
        "fig, ax = plt.subplots(2, 3, figsize = (9, 6))\n",
        "rl = np.random.choice(len(x_train), 6)\n",
        "for i, j in zip(range(6), rl):\n",
        "    ax[i//3, i%3].imshow(x_image[j], cmap='gray')\n",
        "    ax[i//3, i%3].axis('off')\n",
        "    ax[i//3, i%3].set_title(\"Class: %d\"%y_train[j])\n",
        "plt.show()"
      ]
    }
  ],
  "metadata": {
    "kernelspec": {
      "display_name": "Python 3.8.2 64-bit ('.ml-env': venv)",
      "language": "python",
      "name": "python38264bitmlenvvenv061218f239de40f39345ab0476df3c35"
    },
    "language_info": {
      "codemirror_mode": {
        "name": "ipython",
        "version": 3
      },
      "file_extension": ".py",
      "mimetype": "text/x-python",
      "name": "python",
      "nbconvert_exporter": "python",
      "pygments_lexer": "ipython3",
      "version": "3.8.2-final"
    },
    "colab": {
      "name": "ep04_logreg.ipynb",
      "provenance": [],
      "collapsed_sections": []
    }
  },
  "nbformat": 4,
  "nbformat_minor": 0
}