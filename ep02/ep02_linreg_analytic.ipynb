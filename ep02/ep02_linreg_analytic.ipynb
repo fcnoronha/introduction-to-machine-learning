{
  "nbformat": 4,
  "nbformat_minor": 0,
  "metadata": {
    "kernelspec": {
      "display_name": "Python 3.7.5 64-bit",
      "language": "python",
      "name": "python37564bitdd6341c27be74afbabc06f619283cc4a"
    },
    "language_info": {
      "codemirror_mode": {
        "name": "ipython",
        "version": 3
      },
      "file_extension": ".py",
      "mimetype": "text/x-python",
      "name": "python",
      "nbconvert_exporter": "python",
      "pygments_lexer": "ipython3",
      "version": "3.7.5-final"
    },
    "colab": {
      "name": "ep02_linreg_analytic.ipynb",
      "provenance": [],
      "collapsed_sections": [],
      "toc_visible": true,
      "machine_shape": "hm"
    }
  },
  "cells": [
    {
      "cell_type": "markdown",
      "metadata": {
        "id": "PcUULhXGS0_X",
        "colab_type": "text"
      },
      "source": [
        "# MAC0460 / MAC5832 (2020)\n",
        "<hr>\n",
        "\n",
        "## EP2: linear regression, analytic solution\n",
        "### Felipe Castro de Noronha | 10737032\n",
        "---\n",
        "### Goals:\n",
        "\n",
        "- to implement and test the analytic solution for the linear regression task (see, for instance, <a href=\"http://work.caltech.edu/slides/slides03.pdf\">Slides of Lecture 03</a> and Lecture 03 of *Learning from Data*)\n",
        "- to understand the core idea (*optimization of a loss or cost function*) for parameter adjustment in machine learning\n",
        "\n",
        "This notebook makes use of additional auxiliary functions in <t>util/</t>\n",
        "<hr>"
      ]
    },
    {
      "cell_type": "markdown",
      "metadata": {
        "id": "Cz771M15S0_Z",
        "colab_type": "text"
      },
      "source": [
        "# Linear regression\n",
        "\n",
        "Given a dataset $\\{(\\mathbf{x}^{(1)}, y^{(1)}), \\dots ,(\\mathbf{x}^{(N)}, y^{(N)})\\}$ with $\\mathbf{x}^{(i)} \\in \\mathbb{R}^{d}$ and $y^{(i)} \\in \\mathbb{R}$, we would like to approximate the unknown function $f:\\mathbb{R}^{d} \\rightarrow \\mathbb{R}$ (recall that $y^{(i)} =f(\\mathbf{x}^{(i)})$) by means of a linear model $h$:\n",
        "$$\n",
        "h(\\mathbf{x}^{(i)}; \\mathbf{w}, b) = \\mathbf{w}^\\top  \\mathbf{x}^{(i)} + b\n",
        "$$\n",
        "\n",
        "Note that $h(\\mathbf{x}^{(i)}; \\mathbf{w}, b)$ is, in fact, an  [affine transformation](https://en.wikipedia.org/wiki/Affine_transformation) of  $\\mathbf{x}^{(i)}$. As commonly done, we will use the term \"linear\" to refer to an affine transformation.\n",
        "\n",
        "The output of $h$ is a linear transformation of $\\mathbf{x}^{(i)}$. We use the notation $h(\\mathbf{x}^{(i)}; \\mathbf{w}, b)$ to make clear that $h$ is a parametric model, i.e., the transformation $h$ is defined  by the parameters $\\mathbf{w}$ and $b$. We can view vector $\\mathbf{w}$ as a *weight* vector that controls the effect of each *feature* in the prediction.\n",
        "\n",
        "By adding one component with value equal to 1 to the observations $\\mathbf{x}^{(i)}$ -- artificial coordinate -- we can simplify the notation:\n",
        "\n",
        "$$\n",
        "h(\\mathbf{x}^{(i)}; \\mathbf{w}) = \\hat{y}^{(i)} = \\mathbf{w}^\\top  \\mathbf{x}^{(i)}\n",
        "$$\n",
        "\n",
        "We would like to determine the optimal parameters $\\mathbf{w}$ such that prediction $\\hat{y}^{(i)}$ is as closest as possible to $y^{(i)}$ according to some error metric. Adopting the *mean square error* as such metric we have the following cost function:\n",
        "\n",
        "\\begin{equation}\n",
        "J(\\mathbf{w}) = \\frac{1}{N}\\sum_{i=1}^{N}\\big(\\hat{y}^{(i)} - y^{(i)}\\big)^{2}\n",
        "\\end{equation}\n",
        "\n",
        "Thus, the task of determining a function $h$ that is closest to $f$ is reduced to the task of finding the values $\\mathbf{w}$ that minimizes $J(\\mathbf{w})$.\n",
        "\n",
        "**Now we will explore this model, starting with a simple dataset.**\n"
      ]
    },
    {
      "cell_type": "markdown",
      "metadata": {
        "id": "oUNaS_-uS0_a",
        "colab_type": "text"
      },
      "source": [
        "### Import auxiliary functions"
      ]
    },
    {
      "cell_type": "code",
      "metadata": {
        "id": "c0IrpYQ9S0_b",
        "colab_type": "code",
        "colab": {}
      },
      "source": [
        "# all imports\n",
        "import numpy as np\n",
        "import time\n",
        "\n",
        "# changed to work on colab\n",
        "from util import get_housing_prices_data, r_squared\n",
        "from plots import plot_points_regression \n",
        "\n",
        "%matplotlib inline"
      ],
      "execution_count": 0,
      "outputs": []
    },
    {
      "cell_type": "markdown",
      "metadata": {
        "id": "PHuMW8PaS0_h",
        "colab_type": "text"
      },
      "source": [
        "### The dataset \n",
        "\n",
        "The first dataset we will use is a toy dataset. We will generate $N=100$ observations with only one *feature* and a real value associated to each of them. We can view these observations as being pairs *(area of a real state in square meters, price of the real state)*. Our task is to construct a model that is able to predict the price of a real state, given its area."
      ]
    },
    {
      "cell_type": "code",
      "metadata": {
        "id": "Xhfdj9aNS0_i",
        "colab_type": "code",
        "outputId": "8751bdfc-39d8-4033-b57c-0f8bf49dcd27",
        "colab": {
          "base_uri": "https://localhost:8080/",
          "height": 194
        }
      },
      "source": [
        "X, y = get_housing_prices_data(N=100)"
      ],
      "execution_count": 3,
      "outputs": [
        {
          "output_type": "stream",
          "text": [
            "\n",
            "X shape = (100, 1)\n",
            "\n",
            "y shape = (100, 1)\n",
            "\n",
            "X:\n",
            "mean 645.0, sdt 323.65, max 1200.0, min 90.0\n",
            "\n",
            "y:\n",
            "mean 44226.1484375, sdt 17286.49, max 79626.4296875, min 11424.0576171875\n"
          ],
          "name": "stdout"
        }
      ]
    },
    {
      "cell_type": "markdown",
      "metadata": {
        "id": "KNHl4v_PS0_m",
        "colab_type": "text"
      },
      "source": [
        "### Ploting the data"
      ]
    },
    {
      "cell_type": "code",
      "metadata": {
        "id": "LqBMcAzjS0_n",
        "colab_type": "code",
        "outputId": "b7b181a5-3421-40c0-b840-54570f0cbfc1",
        "colab": {
          "base_uri": "https://localhost:8080/",
          "height": 526
        }
      },
      "source": [
        "plot_points_regression(X,\n",
        "                       y,\n",
        "                       title='Real estate prices prediction',\n",
        "                       xlabel=\"m\\u00b2\",\n",
        "                       ylabel='$')"
      ],
      "execution_count": 4,
      "outputs": [
        {
          "output_type": "display_data",
          "data": {
            "image/png": "[encoded data removed]",
            "text/plain": [
              "<Figure size 576x576 with 1 Axes>"
            ]
          },
          "metadata": {
            "tags": []
          }
        }
      ]
    },
    {
      "cell_type": "markdown",
      "metadata": {
        "id": "TuzXGyYjS0_r",
        "colab_type": "text"
      },
      "source": [
        "### The solution\n",
        "\n",
        "Given $f:\\mathbb{R}^{N\\times d} \\rightarrow \\mathbb{R}$ and $\\mathbf{A} \\in \\mathbb{R}^{N\\times d}$, we define the gradient of $f$ with respect to $\\mathbf{A}$ as:\n",
        "\n",
        "\\begin{equation*}\n",
        "\\nabla_{\\mathbf{A}}f = \\frac{\\partial f}{\\partial \\mathbf{A}} =  \\begin{bmatrix}\n",
        "\\frac{\\partial f}{\\partial \\mathbf{A}_{1,1}} & \\dots & \\frac{\\partial f}{\\partial \\mathbf{A}_{1,m}} \\\\\n",
        "\\vdots &  \\ddots & \\vdots \\\\\n",
        "\\frac{\\partial f}{\\partial \\mathbf{A}_{n,1}} &  \\dots & \\frac{\\partial f}{\\partial \\mathbf{A}_{n,m}}\n",
        "\\end{bmatrix}\n",
        "\\end{equation*}\n",
        "\n",
        "Let $\\mathbf{X} \\in \\mathbb{R}^{N\\times d}$ be a matrix whose rows are the observations of the dataset (sometimes also called the *design matrix*) and let $\\mathbf{y} \\in \\mathbb{R}^{N}$ be the vector consisting of all values of $y^{(i)}$ (i.e., $\\mathbf{X}^{(i,:)} = \\mathbf{x}^{(i)}$ and $\\mathbf{y}^{(i)} = y^{(i)}$). It can be verified that: \n",
        "\n",
        "\\begin{equation}\n",
        "J(\\mathbf{w}) = \\frac{1}{N}(\\mathbf{X}\\mathbf{w} - \\mathbf{y})^{T}(\\mathbf{X}\\mathbf{w} - \\mathbf{y})\n",
        "\\end{equation}\n",
        "\n",
        "Using basic matrix derivative concepts we can compute the gradient of $J(\\mathbf{w})$ with respect to $\\mathbf{w}$:\n",
        "\n",
        "\\begin{equation}\n",
        "\\nabla_{\\mathbf{w}}J(\\mathbf{w}) = \\frac{2}{N} (\\mathbf{X}^{T}\\mathbf{X}\\mathbf{w} -\\mathbf{X}^{T}\\mathbf{y})   \n",
        "\\end{equation}\n",
        "\n",
        "Thus, when $\\nabla_{\\mathbf{w}}J(\\mathbf{w}) = 0$ we have \n",
        "\n",
        "\\begin{equation}\n",
        "\\mathbf{X}^{T}\\mathbf{X}\\mathbf{w} = \\mathbf{X}^{T}\\mathbf{y}\n",
        "\\end{equation}\n",
        "\n",
        "Hence,\n",
        "\n",
        "\\begin{equation}\n",
        "\\mathbf{w} = (\\mathbf{X}^{T}\\mathbf{X})^{-1}\\mathbf{X}^{T}\\mathbf{y}\n",
        "\\end{equation}\n",
        "\n",
        "Note that this solution has a high computational cost. As the number of variables (*features*) increases, the cost for matrix inversion becomes prohibitive. See  [this text](http://cs229.stanford.edu/notes/cs229-notes1.pdf) for more details."
      ]
    },
    {
      "cell_type": "markdown",
      "metadata": {
        "id": "6YY5OnsiS0_s",
        "colab_type": "text"
      },
      "source": [
        "## Exercise 1\n",
        "Using only **NumPy** (a quick introduction to this library can be found  [here](http://cs231n.github.io/python-numpy-tutorial/)), complete the two functions below. Recall that $\\mathbf{X} \\in \\mathbb{R}^{N\\times d}$; thus you will need to add a component of value 1 to each of  the observations in $\\mathbf{X}$ before performing the computation described above.\n",
        "\n",
        "NOTE: Although the dataset above has data of dimension $d=1$, your code must be generic (it should work for $d\\geq1$)"
      ]
    },
    {
      "cell_type": "code",
      "metadata": {
        "id": "-14HFtJlS0_t",
        "colab_type": "code",
        "colab": {}
      },
      "source": [
        "def normal_equation_weights(X, y):\n",
        "    \"\"\"\n",
        "    Calculates the weights of a linear function using the normal equation method.\n",
        "    You should add into X a new column with 1s.\n",
        "\n",
        "    :param X: design matrix\n",
        "    :type X: np.ndarray(shape=(N, d))\n",
        "    :param y: regression targets\n",
        "    :type y: np.ndarray(shape=(N, 1))\n",
        "    :return: weight vector\n",
        "    :rtype: np.ndarray(shape=(d+1, 1))\n",
        "    \"\"\"\n",
        "    \n",
        "    # START OF YOUR CODE:\n",
        "    \n",
        "    # X matrix with ones in the beggining of each observation\n",
        "    X_add = np.hstack((np.ones((X.shape[0],1)), X)) \n",
        "\n",
        "    # Mutiplication of X and its transpose\n",
        "    X_m = np.dot(X_add.T, X_add)\n",
        "    \n",
        "    # Inverse of multiplication\n",
        "    X_mi = np.linalg.inv(X_m)\n",
        "\n",
        "    # Result\n",
        "    w = np.dot(np.dot(X_mi, X_add.T), y)\n",
        "\n",
        "    # END YOUR CODE\n",
        "\n",
        "    return w"
      ],
      "execution_count": 0,
      "outputs": []
    },
    {
      "cell_type": "code",
      "metadata": {
        "id": "y8if7VTgS0_x",
        "colab_type": "code",
        "outputId": "d29af2d3-8497-4198-d958-d3d0bbc5c051",
        "colab": {
          "base_uri": "https://localhost:8080/",
          "height": 52
        }
      },
      "source": [
        "# test of function normal_equation_weights()\n",
        "\n",
        "w = 0  # this is not necessary\n",
        "w = normal_equation_weights(X, y)\n",
        "print(\"Estimated w = \", w)"
      ],
      "execution_count": 6,
      "outputs": [
        {
          "output_type": "stream",
          "text": [
            "Estimated w =  [[10780.47053564]\n",
            " [   51.85376504]]\n"
          ],
          "name": "stdout"
        }
      ]
    },
    {
      "cell_type": "code",
      "metadata": {
        "id": "_SufZzrDS0_1",
        "colab_type": "code",
        "colab": {}
      },
      "source": [
        "def normal_equation_prediction(X, w):\n",
        "    \"\"\"\n",
        "    Calculates the prediction over a set of observations X using the linear function\n",
        "    characterized by the weight vector w.\n",
        "    You should add into X a new column with 1s.\n",
        "\n",
        "    :param X: design matrix\n",
        "    :type X: np.ndarray(shape=(N, d))\n",
        "    :param w: weight vector\n",
        "    :type w: np.ndarray(shape=(d+1, 1))\n",
        "    :param y: regression prediction\n",
        "    :type y: np.ndarray(shape=(N, 1))\n",
        "    \"\"\"\n",
        "    \n",
        "    # START OF YOUR CODE:\n",
        "    \n",
        "    # X matrix with ones in the beggining of each observation\n",
        "    X_add = np.hstack((np.ones((X.shape[0],1)), X)) \n",
        "\n",
        "    # Results with generated weights\n",
        "    prediction = np.dot(X_add, w)\n",
        "    \n",
        "    # END YOUR CODE\n",
        "    \n",
        "    return prediction"
      ],
      "execution_count": 0,
      "outputs": []
    },
    {
      "cell_type": "markdown",
      "metadata": {
        "id": "AHeckLPOT6VH",
        "colab_type": "text"
      },
      "source": [
        ""
      ]
    },
    {
      "cell_type": "markdown",
      "metadata": {
        "id": "bWmlrU42S0_6",
        "colab_type": "text"
      },
      "source": [
        "\n",
        "You can use the [$R^2$](https://pt.wikipedia.org/wiki/R%C2%B2) metric to evaluate how well the linear model fits the data.\n",
        "\n",
        "**It is expected that $𝑅^2$ is a value close to 0.5.**"
      ]
    },
    {
      "cell_type": "code",
      "metadata": {
        "id": "vHp4gznRS0_7",
        "colab_type": "code",
        "outputId": "4da634cd-75e3-4365-9b3a-ba2fb76b2da2",
        "colab": {
          "base_uri": "https://localhost:8080/",
          "height": 535
        }
      },
      "source": [
        "# test of function normal_equation_prediction()\n",
        "prediction = normal_equation_prediction(X, w)\n",
        "r_2 = r_squared(y, prediction)\n",
        "plot_points_regression(X,\n",
        "                       y,\n",
        "                       title='Real estate prices prediction',\n",
        "                       xlabel=\"m\\u00b2\",\n",
        "                       ylabel='$',\n",
        "                       prediction=prediction,\n",
        "                       legend=True,\n",
        "                       r_squared=r_2)"
      ],
      "execution_count": 8,
      "outputs": [
        {
          "output_type": "display_data",
          "data": {
            "image/png": "[encoded data removed]",
            "text/plain": [
              "<Figure size 576x576 with 1 Axes>"
            ]
          },
          "metadata": {
            "tags": []
          }
        }
      ]
    },
    {
      "cell_type": "markdown",
      "metadata": {
        "id": "uQpbkMv_S1AA",
        "colab_type": "text"
      },
      "source": [
        "## Additional tests\n",
        "\n",
        "Let us compute a prediction for $x=650$\n"
      ]
    },
    {
      "cell_type": "code",
      "metadata": {
        "id": "RN4xxnheS1AA",
        "colab_type": "code",
        "outputId": "8aaa80ec-86c0-47d4-f7df-61f16dd56702",
        "colab": {
          "base_uri": "https://localhost:8080/",
          "height": 52
        }
      },
      "source": [
        "# Let us use the prediction function\n",
        "x = np.asarray([650]).reshape(1,1)\n",
        "prediction = normal_equation_prediction(x, w)\n",
        "print(\"Area = %.2f  Predicted price = %.4f\" %(x[0], prediction))\n",
        "\n",
        "# another way of computing the same\n",
        "y = np.dot(np.asarray((1,x)), w)\n",
        "print(\"Area = %.2f  Predicted price = %.4f\" %(x, y))\n"
      ],
      "execution_count": 9,
      "outputs": [
        {
          "output_type": "stream",
          "text": [
            "Area = 650.00  Predicted price = 44485.4178\n",
            "Area = 650.00  Predicted price = 44485.4178\n"
          ],
          "name": "stdout"
        }
      ]
    },
    {
      "cell_type": "markdown",
      "metadata": {
        "id": "Va8IsatIS1AF",
        "colab_type": "text"
      },
      "source": [
        "## Exercise 2: Effect of the number of samples\n",
        "\n",
        "Change the number of samples $N$ and observe how processing time varies."
      ]
    },
    {
      "cell_type": "code",
      "metadata": {
        "id": "gI3BHbUpS1AG",
        "colab_type": "code",
        "outputId": "599147ba-d79e-4fb9-e602-7f26734b2396",
        "colab": {
          "base_uri": "https://localhost:8080/",
          "height": 212
        }
      },
      "source": [
        "# Testing different values for N\n",
        "X, y = get_housing_prices_data(N=1000000)\n",
        "init = time.time()\n",
        "w = normal_equation_weights(X, y)\n",
        "prediction = normal_equation_prediction(X,w)\n",
        "init = time.time() - init\n",
        "\n",
        "print(\"Execution time = {:.8f}(s)\".format(init))"
      ],
      "execution_count": 10,
      "outputs": [
        {
          "output_type": "stream",
          "text": [
            "\n",
            "X shape = (1000000, 1)\n",
            "\n",
            "y shape = (1000000, 1)\n",
            "\n",
            "X:\n",
            "mean 645.0000610351562, sdt 320.43, max 1200.0, min 90.0\n",
            "\n",
            "y:\n",
            "mean 44255.5546875, sdt 16519.12, max 88784.109375, min 489.04248046875\n",
            "Execution time = 0.02934265(s)\n"
          ],
          "name": "stdout"
        }
      ]
    },
    {
      "cell_type": "markdown",
      "metadata": {
        "id": "OCjgnoQGlp07",
        "colab_type": "text"
      },
      "source": [
        "Executei este notebook na ferramenta Colab, da Google. Os tempos obtidos foram os seguintes:\n",
        "\n",
        "*   N = 100 -> Execution time = 0.00313520(s)\n",
        "*   N = 1000 -> Execution time = 0.00441623(s)\n",
        "*   N = 10000 -> Execution time = 0.00300860(s)\n",
        "*   N = 100000 -> Execution time = 0.00449181(s)\n",
        "*   N = 1000000 -> Execution time = 0.02990961(s)\n",
        "*   N = 10000000 -> Execution time = 0.29920363(s)\n",
        "\n",
        "Para N = 100000000 não consegui executar o algoritmo.\n",
        "\n",
        "\n"
      ]
    },
    {
      "cell_type": "markdown",
      "metadata": {
        "id": "hFRhgsj3S1AK",
        "colab_type": "text"
      },
      "source": [
        "## Exercise 2: Effect of the data dimension\n",
        "\n",
        "Test your code for data with $𝑑>1$. You can create your own dataset (if you do so, you can share the code by posting it to the moodle's Forum -- only the code for the dataset generation!). If you have no idea on how to generate such dataset, you can use existing datasets such as the \n",
        " one in scikit-learn https://scikit-learn.org/stable/modules/generated/sklearn.datasets.load_boston.html#sklearn.datasets.load_boston\n",
        "\n",
        "If you used an existing dataset or one generated by a colleague, please acknowledge the fact clearly. Thanks!"
      ]
    },
    {
      "cell_type": "markdown",
      "metadata": {
        "id": "Ntmo7NsRpNDo",
        "colab_type": "text"
      },
      "source": [
        "### Dataset 1: boston house-prices\n",
        "\n",
        "Para o meu primeiro teste com o caso multidimensional, usarei o dataset [aqui disponivel](https://scikit-learn.org/stable/modules/generated/sklearn.datasets.load_boston.html#sklearn.datasets.load_boston). Tal D possui 13 dimensões e 506 observações."
      ]
    },
    {
      "cell_type": "code",
      "metadata": {
        "id": "VZcyaGXBS1AM",
        "colab_type": "code",
        "outputId": "21bab37c-9d5c-405a-9b2f-25c6bf9be9a8",
        "colab": {
          "base_uri": "https://localhost:8080/",
          "height": 265
        }
      },
      "source": [
        "# Testing with boston house-prices dataset\n",
        "# The 1's in variables names are here due to scope reasons\n",
        "\n",
        "from sklearn.datasets import load_boston\n",
        "X1, y1 = load_boston(return_X_y=True)\n",
        "\n",
        "# Weights vector\n",
        "w1 = normal_equation_weights(X1, y1)\n",
        "# Predictions\n",
        "p1 = normal_equation_prediction(X1, w1)\n",
        "\n",
        "# Calculating the mean square error\n",
        "J1 = ((p1 - y1)**2).mean()\n",
        "\n",
        "print(\"Mean square error: \" + str(J1))\n",
        "\n",
        "# Printing some samples\n",
        "print(\"\\nComparing some values\")\n",
        "for i in [0, 5, 54, 76, 96, 213, 278, 376, 399, 412, 490]:\n",
        "    print(\"Actual | predicted y = {:.2f} | {:.2f}\".format(y1[i], p1[i]))\n"
      ],
      "execution_count": 11,
      "outputs": [
        {
          "output_type": "stream",
          "text": [
            "Mean square error: 21.894831181729206\n",
            "\n",
            "Comparing some values\n",
            "Actual | predicted y = 24.00 | 30.00\n",
            "Actual | predicted y = 28.70 | 25.26\n",
            "Actual | predicted y = 18.90 | 15.36\n",
            "Actual | predicted y = 20.00 | 22.95\n",
            "Actual | predicted y = 21.40 | 24.73\n",
            "Actual | predicted y = 28.10 | 25.22\n",
            "Actual | predicted y = 29.10 | 30.35\n",
            "Actual | predicted y = 13.90 | 17.74\n",
            "Actual | predicted y = 6.30 | 10.89\n",
            "Actual | predicted y = 17.90 | 1.72\n",
            "Actual | predicted y = 8.10 | 3.66\n"
          ],
          "name": "stdout"
        }
      ]
    },
    {
      "cell_type": "markdown",
      "metadata": {
        "id": "b3Bzcx73BvTb",
        "colab_type": "text"
      },
      "source": [
        "### Dataset 2: Diabetes\n",
        "\n",
        "Esse segundo dataset possui 10 dimensões e 442 exemplos. Tal dados mostram a quantificação da evolução da doença 1 ano a partir das medições. A referencia pode ser consultada [aqui](https://scikit-learn.org/stable/modules/generated/sklearn.datasets.load_diabetes.html#sklearn.datasets.load_diabetes)."
      ]
    },
    {
      "cell_type": "code",
      "metadata": {
        "id": "rHIQsscNBH8-",
        "colab_type": "code",
        "outputId": "5000a821-af40-451d-d55e-f8f68598e09d",
        "colab": {
          "base_uri": "https://localhost:8080/",
          "height": 265
        }
      },
      "source": [
        "# Testing with diabetes dataset\n",
        "# The 2's in variables names are here due to scope reasons\n",
        "\n",
        "from sklearn.datasets import load_diabetes\n",
        "X2, y2 = load_diabetes(return_X_y=True)\n",
        "\n",
        "# Weights vector\n",
        "w2 = normal_equation_weights(X2, y2)\n",
        "# Predictions\n",
        "p2 = normal_equation_prediction(X2, w2)\n",
        "\n",
        "# Calculating the mean square error\n",
        "J2 = ((p2 - y2)**2).mean()\n",
        "\n",
        "print(\"Mean square error: \" + str(J2))\n",
        "\n",
        "# Printing some samples\n",
        "print(\"\\nComparing some values\")\n",
        "for i in [0, 5, 54, 76, 96, 213, 278, 376, 399, 412, 440]:\n",
        "    print(\"Actual | predicted y = {:.2f} | {:.2f}\".format(y2[i], p2[i]))"
      ],
      "execution_count": 12,
      "outputs": [
        {
          "output_type": "stream",
          "text": [
            "Mean square error: 2859.6903987680657\n",
            "\n",
            "Comparing some values\n",
            "Actual | predicted y = 151.00 | 206.12\n",
            "Actual | predicted y = 97.00 | 106.35\n",
            "Actual | predicted y = 182.00 | 139.11\n",
            "Actual | predicted y = 170.00 | 191.17\n",
            "Actual | predicted y = 150.00 | 207.72\n",
            "Actual | predicted y = 49.00 | 98.58\n",
            "Actual | predicted y = 102.00 | 111.45\n",
            "Actual | predicted y = 121.00 | 211.26\n",
            "Actual | predicted y = 232.00 | 189.19\n",
            "Actual | predicted y = 261.00 | 232.98\n",
            "Actual | predicted y = 220.00 | 211.86\n"
          ],
          "name": "stdout"
        }
      ]
    },
    {
      "cell_type": "code",
      "metadata": {
        "id": "EipBS1kLCjtW",
        "colab_type": "code",
        "colab": {}
      },
      "source": [
        ""
      ],
      "execution_count": 0,
      "outputs": []
    },
    {
      "cell_type": "markdown",
      "metadata": {
        "id": "-89dToIBLl71",
        "colab_type": "text"
      },
      "source": [
        "### Dataset 3: Heart Disease UCI\n",
        "\n",
        "Este dataset, obtido [aqui](https://www.kaggle.com/ronitf/heart-disease-uci/data), possui 13 dimensões e 303 exemplos. Leva em contas varias caracteristicas de um paciente e diz se ele tem ou não uma doença cardiaca. \n",
        "\n",
        "O ideal seria usarmos uma regressão logistica para estimar a probabilidade de que dado paciente desenlvolva uma doença cardiaca, mas isso fica para proximos projetos."
      ]
    },
    {
      "cell_type": "code",
      "metadata": {
        "id": "rnGkXu7JGNsF",
        "colab_type": "code",
        "colab": {
          "base_uri": "https://localhost:8080/",
          "height": 265
        },
        "outputId": "9bae71bb-5987-4b1a-ab28-37bd6a060df6"
      },
      "source": [
        "# Reading dataset from csv into numpy matrix\n",
        "data3 = np.genfromtxt('heart.csv', delimiter=',')\n",
        "data3 = data3[1:]\n",
        "\n",
        "# Extracting first 13 columns\n",
        "X3 = data3[:, range(13)]\n",
        "# Extracting last column\n",
        "y3 = data3[:, 13]\n",
        "\n",
        "# Weights vector\n",
        "w3 = normal_equation_weights(X3, y3)\n",
        "# Predictions\n",
        "p3 = normal_equation_prediction(X3, w3)\n",
        "\n",
        "# Calculating the mean square error\n",
        "J3 = ((p3 - y3)**2).mean()\n",
        "\n",
        "print(\"Mean square error: \" + str(J3))\n",
        "\n",
        "# Printing some samples\n",
        "print(\"\\nComparing some values\")\n",
        "for i in [0, 5, 34, 76, 104, 150, 170, 201, 250, 296, 301]:\n",
        "    print(\"Actual | predicted y = {:.2f} | {:.2f}\".format(y3[i], p3[i]))"
      ],
      "execution_count": 13,
      "outputs": [
        {
          "output_type": "stream",
          "text": [
            "Mean square error: 0.11965479756916172\n",
            "\n",
            "Comparing some values\n",
            "Actual | predicted y = 1.00 | 0.76\n",
            "Actual | predicted y = 1.00 | 0.67\n",
            "Actual | predicted y = 1.00 | 0.58\n",
            "Actual | predicted y = 1.00 | 0.70\n",
            "Actual | predicted y = 1.00 | 0.95\n",
            "Actual | predicted y = 1.00 | 0.50\n",
            "Actual | predicted y = 0.00 | 0.59\n",
            "Actual | predicted y = 0.00 | -0.02\n",
            "Actual | predicted y = 0.00 | -0.35\n",
            "Actual | predicted y = 0.00 | 0.62\n",
            "Actual | predicted y = 0.00 | 0.08\n"
          ],
          "name": "stdout"
        }
      ]
    },
    {
      "cell_type": "code",
      "metadata": {
        "id": "JvZH1NBWGXlZ",
        "colab_type": "code",
        "colab": {}
      },
      "source": [
        ""
      ],
      "execution_count": 0,
      "outputs": []
    },
    {
      "cell_type": "markdown",
      "metadata": {
        "id": "A6vkTVuxMh87",
        "colab_type": "text"
      },
      "source": [
        "### Dataset 4: Insurance forecast of medical cost\n",
        "\n",
        "O dataset obtido [aqui](https://www.kaggle.com/mirichoi0218/insurance) reune 6 dimensões entre 1338 exemplos para dizer o custo do plano de saude de um cliente. Aqui, remapiei algumas colunas do dataset original para numeros naturais."
      ]
    },
    {
      "cell_type": "code",
      "metadata": {
        "id": "qCiC1IWTJLEW",
        "colab_type": "code",
        "colab": {
          "base_uri": "https://localhost:8080/",
          "height": 247
        },
        "outputId": "abd8836f-d1c9-4d2d-e0a3-34cfb690f9ff"
      },
      "source": [
        "# Reading dataset from csv into numpy matrix\n",
        "data4 = np.genfromtxt('insurance.csv', delimiter=',')\n",
        "data4 = data4[1:]\n",
        "\n",
        "# Extracting first 6 columns\n",
        "X4 = data4[:, range(6)]\n",
        "# Extracting last column\n",
        "y4 = data4[:, 6]\n",
        "\n",
        "# Weights vector\n",
        "w4 = normal_equation_weights(X4, y4)\n",
        "# Predictions\n",
        "p4 = normal_equation_prediction(X4, w4)\n",
        "\n",
        "# Calculating the mean square error\n",
        "J4 = ((p4 - y4)**2).mean()\n",
        "\n",
        "print(\"Mean square error: \" + str(J4))\n",
        "\n",
        "# Printing some samples\n",
        "print(\"\\nComparing some values\")\n",
        "for i in [0, 100, 200, 300, 500, 600, 700, 800, 900, 1000]:\n",
        "    print(\"Actual | predicted y = {:.2f} | {:.2f}\".format(y4[i], p4[i]))"
      ],
      "execution_count": 14,
      "outputs": [
        {
          "output_type": "stream",
          "text": [
            "Mean square error: 36664649.486669816\n",
            "\n",
            "Comparing some values\n",
            "Actual | predicted y = 16884.92 | 25600.58\n",
            "Actual | predicted y = 6186.13 | 8649.23\n",
            "Actual | predicted y = 2130.68 | 3043.70\n",
            "Actual | predicted y = 6746.74 | 7559.14\n",
            "Actual | predicted y = 36197.70 | 30137.86\n",
            "Actual | predicted y = 1633.04 | 5248.20\n",
            "Actual | predicted y = 2020.55 | 4642.82\n",
            "Actual | predicted y = 7046.72 | 7741.19\n",
            "Actual | predicted y = 8688.86 | 7858.77\n",
            "Actual | predicted y = 17361.77 | 27585.98\n"
          ],
          "name": "stdout"
        }
      ]
    },
    {
      "cell_type": "code",
      "metadata": {
        "id": "Nl1LHa_wNKO4",
        "colab_type": "code",
        "colab": {}
      },
      "source": [
        ""
      ],
      "execution_count": 0,
      "outputs": []
    }
  ]
}